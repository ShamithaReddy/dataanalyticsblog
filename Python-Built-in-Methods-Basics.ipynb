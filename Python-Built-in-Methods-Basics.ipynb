{
 "cells": [
  {
   "cell_type": "markdown",
   "id": "eeda1707",
   "metadata": {},
   "source": [
    "## Capitalize( ) - returns the string with first letter capital, and rest lowercase "
   ]
  },
  {
   "cell_type": "code",
   "execution_count": 1,
   "id": "bbfa99f3",
   "metadata": {},
   "outputs": [
    {
     "data": {
      "text/plain": [
       "'Learning is fun'"
      ]
     },
     "execution_count": 1,
     "metadata": {},
     "output_type": "execute_result"
    }
   ],
   "source": [
    "string_example=\"learning is fun\"\n",
    "string_example.capitalize()"
   ]
  },
  {
   "cell_type": "markdown",
   "id": "af138c31",
   "metadata": {},
   "source": [
    "## title( ) -> to capitailize the first character of each word"
   ]
  },
  {
   "cell_type": "code",
   "execution_count": 2,
   "id": "a7f2c942",
   "metadata": {},
   "outputs": [
    {
     "data": {
      "text/plain": [
       "'Learning Is Fun'"
      ]
     },
     "execution_count": 2,
     "metadata": {},
     "output_type": "execute_result"
    }
   ],
   "source": [
    "string_example.title()"
   ]
  },
  {
   "cell_type": "markdown",
   "id": "c03e8b16",
   "metadata": {},
   "source": [
    "## swapcase( ) -> To swap the case of strings "
   ]
  },
  {
   "cell_type": "code",
   "execution_count": 3,
   "id": "c63c1e1f",
   "metadata": {},
   "outputs": [
    {
     "data": {
      "text/plain": [
       "'LEARNING IS FUN'"
      ]
     },
     "execution_count": 3,
     "metadata": {},
     "output_type": "execute_result"
    }
   ],
   "source": [
    "string_example.swapcase()"
   ]
  },
  {
   "cell_type": "markdown",
   "id": "b4e73695",
   "metadata": {},
   "source": [
    "## find('n') -> to find the index of given letter "
   ]
  },
  {
   "cell_type": "code",
   "execution_count": 6,
   "id": "debfd40b",
   "metadata": {},
   "outputs": [
    {
     "data": {
      "text/plain": [
       "4"
      ]
     },
     "execution_count": 6,
     "metadata": {},
     "output_type": "execute_result"
    }
   ],
   "source": [
    "string_example.find('n')\n"
   ]
  },
  {
   "cell_type": "markdown",
   "id": "501236dd",
   "metadata": {},
   "source": [
    "## count('a') -> To count the total number of 'a' in the string "
   ]
  },
  {
   "cell_type": "code",
   "execution_count": 7,
   "id": "0fb046e8",
   "metadata": {},
   "outputs": [
    {
     "data": {
      "text/plain": [
       "1"
      ]
     },
     "execution_count": 7,
     "metadata": {},
     "output_type": "execute_result"
    }
   ],
   "source": [
    "string_example.count('a')"
   ]
  },
  {
   "cell_type": "markdown",
   "id": "9dc697ab",
   "metadata": {},
   "source": [
    "## replace('string1', 'string2')-> to replace the string1 with string2 "
   ]
  },
  {
   "cell_type": "code",
   "execution_count": 8,
   "id": "e64eee32",
   "metadata": {},
   "outputs": [
    {
     "data": {
      "text/plain": [
       "'learning is joyful'"
      ]
     },
     "execution_count": 8,
     "metadata": {},
     "output_type": "execute_result"
    }
   ],
   "source": [
    "string_example.replace('fun','joyful')"
   ]
  },
  {
   "cell_type": "markdown",
   "id": "ae75598f",
   "metadata": {},
   "source": [
    "## len(object) -> returns no.of elements in the object"
   ]
  },
  {
   "cell_type": "code",
   "execution_count": null,
   "id": "adc90fd8",
   "metadata": {},
   "outputs": [],
   "source": [
    "len(string_example) # accepted objects: strings, list, array, tuple, dictionary, set"
   ]
  },
  {
   "cell_type": "code",
   "execution_count": 10,
   "id": "ec1f58ca",
   "metadata": {},
   "outputs": [],
   "source": [
    "# create a list of prime numbers\n",
    "prime_numbers = [2, 3, 5, 7]"
   ]
  },
  {
   "cell_type": "markdown",
   "id": "00c032ef",
   "metadata": {},
   "source": [
    "## append( ) -> adds an element at the end of the object"
   ]
  },
  {
   "cell_type": "code",
   "execution_count": 11,
   "id": "ee558eea",
   "metadata": {},
   "outputs": [
    {
     "name": "stdout",
     "output_type": "stream",
     "text": [
      "[2, 3, 5, 7, 11]\n"
     ]
    }
   ],
   "source": [
    "\n",
    "prime_numbers.append(11)\n",
    "\n",
    "print(prime_numbers)"
   ]
  },
  {
   "cell_type": "markdown",
   "id": "05af7331",
   "metadata": {},
   "source": [
    "## how to add an element into set? "
   ]
  },
  {
   "cell_type": "code",
   "execution_count": 12,
   "id": "b499ede6",
   "metadata": {},
   "outputs": [
    {
     "name": "stdout",
     "output_type": "stream",
     "text": [
      "{0, 2, 7, 10000, 87}\n"
     ]
    }
   ],
   "source": [
    "set_example={2,7,0,87}\n",
    "set_example.add(10000)\n",
    "print(set_example)"
   ]
  },
  {
   "cell_type": "code",
   "execution_count": 13,
   "id": "8a9dffb2",
   "metadata": {},
   "outputs": [
    {
     "name": "stdout",
     "output_type": "stream",
     "text": [
      "{0, 2, 5, 7, 10000, 'example', 87}\n"
     ]
    }
   ],
   "source": [
    "set_example.update([5,'example'])\n",
    "print(set_example)"
   ]
  },
  {
   "cell_type": "markdown",
   "id": "e3c330e5",
   "metadata": {},
   "source": [
    "### Dictionary Methods "
   ]
  },
  {
   "cell_type": "code",
   "execution_count": 16,
   "id": "b8e286c1",
   "metadata": {},
   "outputs": [
    {
     "data": {
      "text/plain": [
       "'fourth'"
      ]
     },
     "execution_count": 16,
     "metadata": {},
     "output_type": "execute_result"
    }
   ],
   "source": [
    "sample_dict={\"key1\":\"first\", \"key2\": \"second\", \"key3\": \"third\", \"key4\":\"fourth\"}\n",
    "\n",
    "sample_dict[\"key4\"]"
   ]
  },
  {
   "cell_type": "code",
   "execution_count": 17,
   "id": "cada5211",
   "metadata": {},
   "outputs": [
    {
     "data": {
      "text/plain": [
       "['key1', 'key2', 'key3', 'key4']"
      ]
     },
     "execution_count": 17,
     "metadata": {},
     "output_type": "execute_result"
    }
   ],
   "source": [
    "list(sample_dict) # returns a list of all the keys in dictionary"
   ]
  },
  {
   "cell_type": "code",
   "execution_count": 18,
   "id": "7c6548b3",
   "metadata": {},
   "outputs": [
    {
     "data": {
      "text/plain": [
       "'third'"
      ]
     },
     "execution_count": 18,
     "metadata": {},
     "output_type": "execute_result"
    }
   ],
   "source": [
    "sample_dict.get(\"key3\") #get is the conventional method to access a value of a key"
   ]
  },
  {
   "cell_type": "code",
   "execution_count": null,
   "id": "dcb1bde5",
   "metadata": {},
   "outputs": [],
   "source": [
    "sample_dict.keys() # returns a list of keys in dictionary"
   ]
  },
  {
   "cell_type": "code",
   "execution_count": 19,
   "id": "3df41fcb",
   "metadata": {},
   "outputs": [
    {
     "data": {
      "text/plain": [
       "dict_items([('key1', 'first'), ('key2', 'second'), ('key3', 'third'), ('key4', 'fourth')])"
      ]
     },
     "execution_count": 19,
     "metadata": {},
     "output_type": "execute_result"
    }
   ],
   "source": [
    "sample_dict.items() # returns a list of (key,value) pairs"
   ]
  },
  {
   "cell_type": "markdown",
   "id": "eb5488da",
   "metadata": {},
   "source": [
    "# Set operations\n",
    "### 1. Set is an un-ordered collection of items\n",
    "### 2. Every element is unique(no duplicates)\n",
    "### 3. Sets can be used to perform mathematical set operations like union, intersection etc."
   ]
  },
  {
   "cell_type": "code",
   "execution_count": 20,
   "id": "63e93ac7",
   "metadata": {},
   "outputs": [],
   "source": [
    "A = {\"example\", 24, 87.5, \"data\", 28}\n",
    "\n",
    "B = {24, 87.5,100}"
   ]
  },
  {
   "cell_type": "code",
   "execution_count": 21,
   "id": "256d2539",
   "metadata": {},
   "outputs": [
    {
     "name": "stdout",
     "output_type": "stream",
     "text": [
      "{'example', 100, 'data', 87.5, 24, 28}\n"
     ]
    },
    {
     "data": {
      "text/plain": [
       "{100, 24, 28, 87.5, 'data', 'example'}"
      ]
     },
     "execution_count": 21,
     "metadata": {},
     "output_type": "execute_result"
    }
   ],
   "source": [
    "print(A|B) #union of A and B is a set of all elements from both sets\n",
    "\n",
    "A.union(B)"
   ]
  },
  {
   "cell_type": "code",
   "execution_count": 22,
   "id": "6a71893a",
   "metadata": {},
   "outputs": [
    {
     "name": "stdout",
     "output_type": "stream",
     "text": [
      "{24, 87.5}\n"
     ]
    },
    {
     "data": {
      "text/plain": [
       "{24, 87.5}"
      ]
     },
     "execution_count": 22,
     "metadata": {},
     "output_type": "execute_result"
    }
   ],
   "source": [
    "print(A&B) #common elements between the two sets\n",
    "\n",
    "A.intersection(B)"
   ]
  },
  {
   "cell_type": "code",
   "execution_count": null,
   "id": "2188d457",
   "metadata": {},
   "outputs": [],
   "source": [
    "#explore more methods\n",
    "\n",
    "array.extend((tuple)) -> extends the array with given tuple\n",
    "array.fromlist(list) -> add values from a list to array\n",
    "array.tolist() -> converts array into list\n",
    "array.insert(index,element) -> insets the element at the specified index of an object (can be applied on list as well)\n",
    "list_example.pop() -> deleting the last element and prints the value \n",
    "list_example.pop(index) -> removes the element at the given index from the object and prints it.\n",
    "array.remove(value) -> removes the first occurrence of element with specified value.(can be applied on list as well)"
   ]
  },
  {
   "cell_type": "code",
   "execution_count": null,
   "id": "27c9b281",
   "metadata": {},
   "outputs": [],
   "source": []
  },
  {
   "cell_type": "code",
   "execution_count": null,
   "id": "7f7d2850",
   "metadata": {},
   "outputs": [],
   "source": []
  }
 ],
 "metadata": {
  "kernelspec": {
   "display_name": "Python 3 (ipykernel)",
   "language": "python",
   "name": "python3"
  },
  "language_info": {
   "codemirror_mode": {
    "name": "ipython",
    "version": 3
   },
   "file_extension": ".py",
   "mimetype": "text/x-python",
   "name": "python",
   "nbconvert_exporter": "python",
   "pygments_lexer": "ipython3",
   "version": "3.11.4"
  }
 },
 "nbformat": 4,
 "nbformat_minor": 5
}
