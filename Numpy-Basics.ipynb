{
 "cells": [
  {
   "cell_type": "markdown",
   "id": "ae811786",
   "metadata": {},
   "source": [
    "### Installing NUMPY "
   ]
  },
  {
   "cell_type": "code",
   "execution_count": 2,
   "id": "33e64639",
   "metadata": {},
   "outputs": [],
   "source": [
    "pip install numpy\n",
    "\n",
    "import numpy as np"
   ]
  },
  {
   "cell_type": "markdown",
   "id": "2bf05323",
   "metadata": {},
   "source": [
    "### Numpy array inititialization "
   ]
  },
  {
   "cell_type": "code",
   "execution_count": 13,
   "id": "5e0cd6cf",
   "metadata": {},
   "outputs": [
    {
     "name": "stdout",
     "output_type": "stream",
     "text": [
      "[ 1 -7  5  0  9 98]\n"
     ]
    }
   ],
   "source": [
    "my_list= [1,-7,5,0,9,98]\n",
    "\n",
    "array = np.array(my_list,int)\n",
    "\n",
    "print(array)"
   ]
  },
  {
   "cell_type": "markdown",
   "id": "fba42a52",
   "metadata": {},
   "source": [
    "### Attributes of Numpy array "
   ]
  },
  {
   "cell_type": "code",
   "execution_count": 14,
   "id": "15488903",
   "metadata": {},
   "outputs": [
    {
     "name": "stdout",
     "output_type": "stream",
     "text": [
      "<class 'numpy.ndarray'>\n",
      "6\n",
      "1\n",
      "(6,)\n"
     ]
    }
   ],
   "source": [
    "print(type(array))\n",
    "print(len(array))\n",
    "print(array.ndim)\n",
    "print(array.shape)"
   ]
  },
  {
   "cell_type": "code",
   "execution_count": 15,
   "id": "162bc115",
   "metadata": {},
   "outputs": [
    {
     "name": "stdout",
     "output_type": "stream",
     "text": [
      "[[ 1 -7]\n",
      " [ 5  0]\n",
      " [ 9 98]]\n"
     ]
    }
   ],
   "source": [
    "array2=array.reshape(3,2)\n",
    "\n",
    "print(array2)"
   ]
  },
  {
   "cell_type": "code",
   "execution_count": 17,
   "id": "35a1ef57",
   "metadata": {},
   "outputs": [
    {
     "name": "stdout",
     "output_type": "stream",
     "text": [
      "[[ 1 -7]\n",
      " [ 5  0]\n",
      " [ 9 98]]\n"
     ]
    }
   ],
   "source": [
    "array3= array.reshape(3,-1)\n",
    "\n",
    "print(array3)"
   ]
  },
  {
   "cell_type": "code",
   "execution_count": 18,
   "id": "58da0ae4",
   "metadata": {},
   "outputs": [
    {
     "name": "stdout",
     "output_type": "stream",
     "text": [
      "[[1 2 3 4 5]\n",
      " [2 3 4 5 6]\n",
      " [9 7 6 8 9]]\n"
     ]
    }
   ],
   "source": [
    "my_list1 =[1,2,3,4,5]\n",
    "my_list2=[2,3,4,5,6]\n",
    "my_list3=[9,7,6,8,9]\n",
    "\n",
    "multi_array=np.array([my_list1,my_list2,my_list3])\n",
    "\n",
    "print(multi_array)"
   ]
  },
  {
   "cell_type": "code",
   "execution_count": 19,
   "id": "9c58884d",
   "metadata": {},
   "outputs": [
    {
     "name": "stdout",
     "output_type": "stream",
     "text": [
      "(3, 5)\n"
     ]
    }
   ],
   "source": [
    "print(multi_array.shape)"
   ]
  },
  {
   "cell_type": "markdown",
   "id": "8d2828ca",
   "metadata": {},
   "source": [
    "## Numpy arithematic operations "
   ]
  },
  {
   "cell_type": "code",
   "execution_count": 23,
   "id": "0298ea26",
   "metadata": {},
   "outputs": [
    {
     "name": "stdout",
     "output_type": "stream",
     "text": [
      "[[ 6.  8.]\n",
      " [10. 12.]]\n"
     ]
    }
   ],
   "source": [
    "x= np.array([[1,2],[3,4]],dtype=np.float64)\n",
    "y=np.array([[5,6],[7,8]],dtype=np.float64)\n",
    "\n",
    "print(x+y)"
   ]
  },
  {
   "cell_type": "code",
   "execution_count": 24,
   "id": "60699831",
   "metadata": {},
   "outputs": [
    {
     "name": "stdout",
     "output_type": "stream",
     "text": [
      "[[ 6.  8.]\n",
      " [10. 12.]]\n"
     ]
    }
   ],
   "source": [
    "print(np.add(x,y))"
   ]
  },
  {
   "cell_type": "code",
   "execution_count": 26,
   "id": "630bd9cb",
   "metadata": {},
   "outputs": [
    {
     "name": "stdout",
     "output_type": "stream",
     "text": [
      "[[4. 4.]\n",
      " [4. 4.]]\n"
     ]
    }
   ],
   "source": [
    "print(np.subtract(y,x))"
   ]
  },
  {
   "cell_type": "code",
   "execution_count": 27,
   "id": "39316ade",
   "metadata": {},
   "outputs": [
    {
     "name": "stdout",
     "output_type": "stream",
     "text": [
      "10.0\n"
     ]
    }
   ],
   "source": [
    "print(np.sum(x))"
   ]
  },
  {
   "cell_type": "code",
   "execution_count": 28,
   "id": "9c0a5afb",
   "metadata": {},
   "outputs": [
    {
     "name": "stdout",
     "output_type": "stream",
     "text": [
      "[[ 5. 12.]\n",
      " [21. 32.]]\n"
     ]
    }
   ],
   "source": [
    "print(np.multiply(x,y))"
   ]
  },
  {
   "cell_type": "code",
   "execution_count": 29,
   "id": "75efc1a9",
   "metadata": {},
   "outputs": [
    {
     "name": "stdout",
     "output_type": "stream",
     "text": [
      "[4. 6.]\n"
     ]
    }
   ],
   "source": [
    "print(np.sum(x,axis=0))"
   ]
  },
  {
   "cell_type": "code",
   "execution_count": 30,
   "id": "031bf393",
   "metadata": {},
   "outputs": [
    {
     "name": "stdout",
     "output_type": "stream",
     "text": [
      "[3. 7.]\n"
     ]
    }
   ],
   "source": [
    "print(np.sum(x,axis=1))"
   ]
  },
  {
   "cell_type": "markdown",
   "id": "4bd737cd",
   "metadata": {},
   "source": [
    "## More functions: "
   ]
  },
  {
   "cell_type": "code",
   "execution_count": null,
   "id": "246be1dd",
   "metadata": {},
   "outputs": [],
   "source": [
    "numpy.logaddexp -> Logarithm of sum of exponentaions of Input\n",
    "numpy.truedivide -> returns a true division of inputs elementwise\n",
    "numpy.floordivide -> Returns the largest integer smaller or equal to division of inputs\n",
    "numpy.negative -> numerical negative element wise\n",
    "numpy.power-> first array elements raised to powers of second array, element wise\n",
    "numpy.remainder -> return element wise remainder of divison\n",
    "numpy.mod -> return element wise remainder of division"
   ]
  }
 ],
 "metadata": {
  "kernelspec": {
   "display_name": "Python 3 (ipykernel)",
   "language": "python",
   "name": "python3"
  },
  "language_info": {
   "codemirror_mode": {
    "name": "ipython",
    "version": 3
   },
   "file_extension": ".py",
   "mimetype": "text/x-python",
   "name": "python",
   "nbconvert_exporter": "python",
   "pygments_lexer": "ipython3",
   "version": "3.11.4"
  }
 },
 "nbformat": 4,
 "nbformat_minor": 5
}
