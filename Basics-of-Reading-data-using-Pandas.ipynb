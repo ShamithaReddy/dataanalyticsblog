{
 "cells": [
  {
   "cell_type": "markdown",
   "id": "bd97e078",
   "metadata": {},
   "source": [
    "## Commonly used data Format is Excel or CSV\n",
    "### -> here data is stored in the form of tables, every row is called record, and every column has same datatype."
   ]
  },
  {
   "cell_type": "markdown",
   "id": "24f30e7a",
   "metadata": {},
   "source": [
    "## Comma - Seperated values\n",
    "   \n",
    "   ### -> Format \".csv\"\n",
    "   #### each record is seperated by comma\n",
    "   #### files where records are seperated by tab are called tab seperated values\n",
    "   \n",
    "## Excel -> format \".xlsx\""
   ]
  },
  {
   "cell_type": "markdown",
   "id": "f1a68440",
   "metadata": {},
   "source": [
    "## Pandas -> library to work with data frames"
   ]
  },
  {
   "cell_type": "code",
   "execution_count": 5,
   "id": "c060669d",
   "metadata": {},
   "outputs": [],
   "source": [
    "pip install pandas\n",
    "\n",
    "import pandas as pd"
   ]
  },
  {
   "cell_type": "code",
   "execution_count": 28,
   "id": "57c5ea65",
   "metadata": {},
   "outputs": [],
   "source": [
    "data_csv=pd.read_csv('/Users/shreddyr/Downloads/results.csv')"
   ]
  },
  {
   "cell_type": "code",
   "execution_count": 30,
   "id": "97b6c2f9",
   "metadata": {
    "scrolled": true
   },
   "outputs": [
    {
     "data": {
      "text/html": [
       "<div>\n",
       "<style scoped>\n",
       "    .dataframe tbody tr th:only-of-type {\n",
       "        vertical-align: middle;\n",
       "    }\n",
       "\n",
       "    .dataframe tbody tr th {\n",
       "        vertical-align: top;\n",
       "    }\n",
       "\n",
       "    .dataframe thead th {\n",
       "        text-align: right;\n",
       "    }\n",
       "</style>\n",
       "<table border=\"1\" class=\"dataframe\">\n",
       "  <thead>\n",
       "    <tr style=\"text-align: right;\">\n",
       "      <th></th>\n",
       "      <th>home_team</th>\n",
       "      <th>away_team</th>\n",
       "      <th>home_goals</th>\n",
       "      <th>away_goals</th>\n",
       "      <th>result</th>\n",
       "      <th>season</th>\n",
       "    </tr>\n",
       "  </thead>\n",
       "  <tbody>\n",
       "    <tr>\n",
       "      <th>0</th>\n",
       "      <td>Sheffield United</td>\n",
       "      <td>Liverpool</td>\n",
       "      <td>1.0</td>\n",
       "      <td>1.0</td>\n",
       "      <td>D</td>\n",
       "      <td>2006-2007</td>\n",
       "    </tr>\n",
       "    <tr>\n",
       "      <th>1</th>\n",
       "      <td>Arsenal</td>\n",
       "      <td>Aston Villa</td>\n",
       "      <td>1.0</td>\n",
       "      <td>1.0</td>\n",
       "      <td>D</td>\n",
       "      <td>2006-2007</td>\n",
       "    </tr>\n",
       "    <tr>\n",
       "      <th>2</th>\n",
       "      <td>Everton</td>\n",
       "      <td>Watford</td>\n",
       "      <td>2.0</td>\n",
       "      <td>1.0</td>\n",
       "      <td>H</td>\n",
       "      <td>2006-2007</td>\n",
       "    </tr>\n",
       "    <tr>\n",
       "      <th>3</th>\n",
       "      <td>Newcastle United</td>\n",
       "      <td>Wigan Athletic</td>\n",
       "      <td>2.0</td>\n",
       "      <td>1.0</td>\n",
       "      <td>H</td>\n",
       "      <td>2006-2007</td>\n",
       "    </tr>\n",
       "    <tr>\n",
       "      <th>4</th>\n",
       "      <td>Portsmouth</td>\n",
       "      <td>Blackburn Rovers</td>\n",
       "      <td>3.0</td>\n",
       "      <td>0.0</td>\n",
       "      <td>H</td>\n",
       "      <td>2006-2007</td>\n",
       "    </tr>\n",
       "    <tr>\n",
       "      <th>5</th>\n",
       "      <td>Reading</td>\n",
       "      <td>Middlesbrough</td>\n",
       "      <td>3.0</td>\n",
       "      <td>2.0</td>\n",
       "      <td>H</td>\n",
       "      <td>2006-2007</td>\n",
       "    </tr>\n",
       "    <tr>\n",
       "      <th>6</th>\n",
       "      <td>West Ham United</td>\n",
       "      <td>Charlton Athletic</td>\n",
       "      <td>3.0</td>\n",
       "      <td>1.0</td>\n",
       "      <td>H</td>\n",
       "      <td>2006-2007</td>\n",
       "    </tr>\n",
       "    <tr>\n",
       "      <th>7</th>\n",
       "      <td>Bolton Wanderers</td>\n",
       "      <td>Tottenham Hotspur</td>\n",
       "      <td>2.0</td>\n",
       "      <td>0.0</td>\n",
       "      <td>H</td>\n",
       "      <td>2006-2007</td>\n",
       "    </tr>\n",
       "    <tr>\n",
       "      <th>8</th>\n",
       "      <td>Manchester United</td>\n",
       "      <td>Fulham</td>\n",
       "      <td>5.0</td>\n",
       "      <td>1.0</td>\n",
       "      <td>H</td>\n",
       "      <td>2006-2007</td>\n",
       "    </tr>\n",
       "    <tr>\n",
       "      <th>9</th>\n",
       "      <td>Chelsea</td>\n",
       "      <td>Manchester City</td>\n",
       "      <td>3.0</td>\n",
       "      <td>0.0</td>\n",
       "      <td>H</td>\n",
       "      <td>2006-2007</td>\n",
       "    </tr>\n",
       "  </tbody>\n",
       "</table>\n",
       "</div>"
      ],
      "text/plain": [
       "           home_team          away_team  home_goals  away_goals result  \\\n",
       "0   Sheffield United          Liverpool         1.0         1.0      D   \n",
       "1            Arsenal        Aston Villa         1.0         1.0      D   \n",
       "2            Everton            Watford         2.0         1.0      H   \n",
       "3   Newcastle United     Wigan Athletic         2.0         1.0      H   \n",
       "4         Portsmouth   Blackburn Rovers         3.0         0.0      H   \n",
       "5            Reading      Middlesbrough         3.0         2.0      H   \n",
       "6    West Ham United  Charlton Athletic         3.0         1.0      H   \n",
       "7   Bolton Wanderers  Tottenham Hotspur         2.0         0.0      H   \n",
       "8  Manchester United             Fulham         5.0         1.0      H   \n",
       "9            Chelsea    Manchester City         3.0         0.0      H   \n",
       "\n",
       "      season  \n",
       "0  2006-2007  \n",
       "1  2006-2007  \n",
       "2  2006-2007  \n",
       "3  2006-2007  \n",
       "4  2006-2007  \n",
       "5  2006-2007  \n",
       "6  2006-2007  \n",
       "7  2006-2007  \n",
       "8  2006-2007  \n",
       "9  2006-2007  "
      ]
     },
     "execution_count": 30,
     "metadata": {},
     "output_type": "execute_result"
    }
   ],
   "source": [
    "data_csv.head(10)"
   ]
  },
  {
   "cell_type": "markdown",
   "id": "69ca4a5f",
   "metadata": {},
   "source": [
    "#### When we read a file all the blank cells will be read as \"nan\" "
   ]
  },
  {
   "cell_type": "markdown",
   "id": "43767a08",
   "metadata": {},
   "source": [
    "### How to remove the index column that was printed in the aboce csv data? "
   ]
  },
  {
   "cell_type": "code",
   "execution_count": 9,
   "id": "54c37eae",
   "metadata": {},
   "outputs": [
    {
     "data": {
      "text/html": [
       "<div>\n",
       "<style scoped>\n",
       "    .dataframe tbody tr th:only-of-type {\n",
       "        vertical-align: middle;\n",
       "    }\n",
       "\n",
       "    .dataframe tbody tr th {\n",
       "        vertical-align: top;\n",
       "    }\n",
       "\n",
       "    .dataframe thead th {\n",
       "        text-align: right;\n",
       "    }\n",
       "</style>\n",
       "<table border=\"1\" class=\"dataframe\">\n",
       "  <thead>\n",
       "    <tr style=\"text-align: right;\">\n",
       "      <th></th>\n",
       "      <th>away_team</th>\n",
       "      <th>home_goals</th>\n",
       "      <th>away_goals</th>\n",
       "      <th>result</th>\n",
       "      <th>season</th>\n",
       "    </tr>\n",
       "    <tr>\n",
       "      <th>home_team</th>\n",
       "      <th></th>\n",
       "      <th></th>\n",
       "      <th></th>\n",
       "      <th></th>\n",
       "      <th></th>\n",
       "    </tr>\n",
       "  </thead>\n",
       "  <tbody>\n",
       "    <tr>\n",
       "      <th>Sheffield United</th>\n",
       "      <td>Liverpool</td>\n",
       "      <td>1.0</td>\n",
       "      <td>1.0</td>\n",
       "      <td>D</td>\n",
       "      <td>2006-2007</td>\n",
       "    </tr>\n",
       "    <tr>\n",
       "      <th>Arsenal</th>\n",
       "      <td>Aston Villa</td>\n",
       "      <td>1.0</td>\n",
       "      <td>1.0</td>\n",
       "      <td>D</td>\n",
       "      <td>2006-2007</td>\n",
       "    </tr>\n",
       "    <tr>\n",
       "      <th>Everton</th>\n",
       "      <td>Watford</td>\n",
       "      <td>2.0</td>\n",
       "      <td>1.0</td>\n",
       "      <td>H</td>\n",
       "      <td>2006-2007</td>\n",
       "    </tr>\n",
       "    <tr>\n",
       "      <th>Newcastle United</th>\n",
       "      <td>Wigan Athletic</td>\n",
       "      <td>2.0</td>\n",
       "      <td>1.0</td>\n",
       "      <td>H</td>\n",
       "      <td>2006-2007</td>\n",
       "    </tr>\n",
       "    <tr>\n",
       "      <th>Portsmouth</th>\n",
       "      <td>Blackburn Rovers</td>\n",
       "      <td>3.0</td>\n",
       "      <td>0.0</td>\n",
       "      <td>H</td>\n",
       "      <td>2006-2007</td>\n",
       "    </tr>\n",
       "  </tbody>\n",
       "</table>\n",
       "</div>"
      ],
      "text/plain": [
       "                         away_team  home_goals  away_goals result     season\n",
       "home_team                                                                   \n",
       "Sheffield United         Liverpool         1.0         1.0      D  2006-2007\n",
       "Arsenal                Aston Villa         1.0         1.0      D  2006-2007\n",
       "Everton                    Watford         2.0         1.0      H  2006-2007\n",
       "Newcastle United    Wigan Athletic         2.0         1.0      H  2006-2007\n",
       "Portsmouth        Blackburn Rovers         3.0         0.0      H  2006-2007"
      ]
     },
     "execution_count": 9,
     "metadata": {},
     "output_type": "execute_result"
    }
   ],
   "source": [
    "data_csv=pd.read_csv('/Users/shreddyr/Downloads/results.csv', index_col=0)\n",
    "\n",
    "data_csv.head()"
   ]
  },
  {
   "cell_type": "markdown",
   "id": "e87d972e",
   "metadata": {},
   "source": [
    "### Read from excel file "
   ]
  },
  {
   "cell_type": "code",
   "execution_count": 11,
   "id": "1d994b15",
   "metadata": {},
   "outputs": [
    {
     "name": "stdout",
     "output_type": "stream",
     "text": [
      "Collecting openpyxl\n",
      "  Downloading openpyxl-3.1.2-py2.py3-none-any.whl (249 kB)\n",
      "\u001b[2K     \u001b[90m━━━━━━━━━━━━━━━━━━━━━━━━━━━━━━━━━━━━━\u001b[0m \u001b[32m250.0/250.0 kB\u001b[0m \u001b[31m117.0 kB/s\u001b[0m eta \u001b[36m0:00:00\u001b[0m00:01\u001b[0m00:01\u001b[0m\n",
      "\u001b[?25hCollecting et-xmlfile (from openpyxl)\n",
      "  Downloading et_xmlfile-1.1.0-py3-none-any.whl (4.7 kB)\n",
      "Installing collected packages: et-xmlfile, openpyxl\n",
      "Successfully installed et-xmlfile-1.1.0 openpyxl-3.1.2\n",
      "Note: you may need to restart the kernel to use updated packages.\n"
     ]
    }
   ],
   "source": [
    "pip install openpyxl"
   ]
  },
  {
   "cell_type": "code",
   "execution_count": 31,
   "id": "cb62ed71",
   "metadata": {},
   "outputs": [
    {
     "data": {
      "text/html": [
       "<div>\n",
       "<style scoped>\n",
       "    .dataframe tbody tr th:only-of-type {\n",
       "        vertical-align: middle;\n",
       "    }\n",
       "\n",
       "    .dataframe tbody tr th {\n",
       "        vertical-align: top;\n",
       "    }\n",
       "\n",
       "    .dataframe thead th {\n",
       "        text-align: right;\n",
       "    }\n",
       "</style>\n",
       "<table border=\"1\" class=\"dataframe\">\n",
       "  <thead>\n",
       "    <tr style=\"text-align: right;\">\n",
       "      <th></th>\n",
       "      <th>Time Range</th>\n",
       "      <th>Total Time duration</th>\n",
       "      <th>Description</th>\n",
       "      <th>Date</th>\n",
       "      <th>Unnamed: 4</th>\n",
       "      <th>Goals</th>\n",
       "    </tr>\n",
       "  </thead>\n",
       "  <tbody>\n",
       "    <tr>\n",
       "      <th>0</th>\n",
       "      <td>01:30:00</td>\n",
       "      <td>NaN</td>\n",
       "      <td>Wprk (quilt pipelines)</td>\n",
       "      <td>2023-03-03</td>\n",
       "      <td>Friday</td>\n",
       "      <td>NaN</td>\n",
       "    </tr>\n",
       "    <tr>\n",
       "      <th>1</th>\n",
       "      <td>02:10:00</td>\n",
       "      <td>NaN</td>\n",
       "      <td>eat and washroom</td>\n",
       "      <td>NaT</td>\n",
       "      <td>NaN</td>\n",
       "      <td>NaN</td>\n",
       "    </tr>\n",
       "    <tr>\n",
       "      <th>2</th>\n",
       "      <td>02:35:00</td>\n",
       "      <td>NaN</td>\n",
       "      <td>work (quilt pipelines)</td>\n",
       "      <td>NaT</td>\n",
       "      <td>NaN</td>\n",
       "      <td>NaN</td>\n",
       "    </tr>\n",
       "    <tr>\n",
       "      <th>3</th>\n",
       "      <td>03:15:00</td>\n",
       "      <td>NaN</td>\n",
       "      <td>building package</td>\n",
       "      <td>NaT</td>\n",
       "      <td>NaN</td>\n",
       "      <td>NaN</td>\n",
       "    </tr>\n",
       "    <tr>\n",
       "      <th>4</th>\n",
       "      <td>03:30:00</td>\n",
       "      <td>NaN</td>\n",
       "      <td>sruthi meet</td>\n",
       "      <td>NaT</td>\n",
       "      <td>NaN</td>\n",
       "      <td>NaN</td>\n",
       "    </tr>\n",
       "  </tbody>\n",
       "</table>\n",
       "</div>"
      ],
      "text/plain": [
       "  Time Range Total Time duration             Description       Date  \\\n",
       "0   01:30:00                 NaN  Wprk (quilt pipelines) 2023-03-03   \n",
       "1   02:10:00                 NaN        eat and washroom        NaT   \n",
       "2   02:35:00                 NaN  work (quilt pipelines)        NaT   \n",
       "3   03:15:00                 NaN        building package        NaT   \n",
       "4   03:30:00                 NaN             sruthi meet        NaT   \n",
       "\n",
       "  Unnamed: 4 Goals  \n",
       "0     Friday   NaN  \n",
       "1        NaN   NaN  \n",
       "2        NaN   NaN  \n",
       "3        NaN   NaN  \n",
       "4        NaN   NaN  "
      ]
     },
     "execution_count": 31,
     "metadata": {},
     "output_type": "execute_result"
    }
   ],
   "source": [
    "data_xlsx=pd.read_excel('/Users/shreddyr/Downloads/Book1.xlsx')\n",
    "\n",
    "data_xlsx.head()"
   ]
  },
  {
   "cell_type": "markdown",
   "id": "120f746d",
   "metadata": {},
   "source": [
    "### Read from text file "
   ]
  },
  {
   "cell_type": "code",
   "execution_count": 14,
   "id": "163d7302",
   "metadata": {},
   "outputs": [],
   "source": [
    "data_txt=pd.read_table('/Users/shreddyr/Downloads/textdataexample.txt')"
   ]
  },
  {
   "cell_type": "code",
   "execution_count": 15,
   "id": "0c7ec387",
   "metadata": {},
   "outputs": [
    {
     "data": {
      "text/html": [
       "<div>\n",
       "<style scoped>\n",
       "    .dataframe tbody tr th:only-of-type {\n",
       "        vertical-align: middle;\n",
       "    }\n",
       "\n",
       "    .dataframe tbody tr th {\n",
       "        vertical-align: top;\n",
       "    }\n",
       "\n",
       "    .dataframe thead th {\n",
       "        text-align: right;\n",
       "    }\n",
       "</style>\n",
       "<table border=\"1\" class=\"dataframe\">\n",
       "  <thead>\n",
       "    <tr style=\"text-align: right;\">\n",
       "      <th></th>\n",
       "      <th>SCAC*,ACCOUNT_NUMBER*,INV_NUMBER*,INV_DATE*,INV_TOTAL_AMT*, INV_BASE_AMT* ,INV_BARCODE*,INV_TAX_1_NAME*,INV_TAX_1_PERCENTAGE*, INV_TAX_1_AMOUNT* , INV_TAX_1_TAXABLE_AMOUNT* ,INV_TAX_2_NAME,INV_TAX_2_PERCENTAGE,INV_TAX_2_AMOUNT,INV_TAX_2_TAXABLE_AMOUNT,INV_TAX_3_NAME,INV_TAX_3_PERCENTAGE,INV_TAX_3_AMOUNT,INV_TAX_3_TAXABLE_AMOUNT,CURRENCY_CODE*,AMAZON_REF_ID*,CARRIER_REF_ID,AMAZON_VAT_ID*,CARRIER_VAT_ID*,SHIPPER_ACCOUNT,BILL_NAME,BILL_COMPANY*,BILL_ADDRESS_LINE_1*,BILL_ADDRESS_LINE_2,BILL_CITY*,BILL_STATE,BILL_COUNTRY_CODE*,BILL_POSTAL_CODE*,FROM_NAME,CARRIER_COMPANY,CARRIER_ADDRESS_LINE_1,FROM_ADDRESS_LINE_2,CARRIER_CITY,FROM_STATE,CARRIER_COUNTRY_CODE,CARRIER_POSTAL_CODE,PICKUP_DATE*,PICKUP_POINT*,DELIVERED_DATE,DELIVERED_POINT*,CONSIGMENT,ITEM_CLASS,VEHICLE_TYPE,DISTANCE,DISTANCE_UNIT,STOP_OVERS,CHARGE_1_CODE*,CHARGE_1_AMOUNT*,CHARGE_1_TAX_1_NAME,CHARGE_1_TAX_1_PERCENTAGE,CHARGE_1_TAX_1_AMOUNT,CHARGE_1_TAX_1_TAXABLE_AMOUNT,CHARGE_1_TAX_2_NAME,CHARGE_1_TAX_2_PERCENTAGE,CHARGE_1_TAX_2_AMOUNT,CHARGE_1_TAX_2_TAXABLE_AMOUNT,CHARGE_2_CODE*,CHARGE_2_AMOUNT*,CHARGE_2_TAX_1_NAME,CHARGE_2_TAX_1_PERCENTAGE,CHARGE_2_TAX_1_AMOUNT,CHARGE_2_TAX_1_TAXABLE_AMOUNT,CHARGE_2_TAX_2_NAME,CHARGE_2_TAX_2_PERCENTAGE,CHARGE_2_TAX_2_AMOUNT,CHARGE_2_TAX_2_TAXABLE_AMOUNT,CHARGE_3_CODE*,CHARGE_3_AMOUNT*,CHARGE_3_TAX_1_NAME,CHARGE_3_TAX_1_PERCENTAGE,CHARGE_3_TAX_1_AMOUNT,CHARGE_3_TAX_1_TAXABLE_AMOUNT,CHARGE_3_TAX_2_NAME,CHARGE_3_TAX_2_PERCENTAGE,CHARGE_3_TAX_2_AMOUNT,CHARGE_3_TAX_2_TAXABLE_AMOUNT</th>\n",
       "    </tr>\n",
       "  </thead>\n",
       "  <tbody>\n",
       "    <tr>\n",
       "      <th>0</th>\n",
       "      <td>ASLI,ASLIAIRCARGO,7022002523,20221206,24223.68...</td>\n",
       "    </tr>\n",
       "  </tbody>\n",
       "</table>\n",
       "</div>"
      ],
      "text/plain": [
       "  SCAC*,ACCOUNT_NUMBER*,INV_NUMBER*,INV_DATE*,INV_TOTAL_AMT*, INV_BASE_AMT* ,INV_BARCODE*,INV_TAX_1_NAME*,INV_TAX_1_PERCENTAGE*, INV_TAX_1_AMOUNT* , INV_TAX_1_TAXABLE_AMOUNT* ,INV_TAX_2_NAME,INV_TAX_2_PERCENTAGE,INV_TAX_2_AMOUNT,INV_TAX_2_TAXABLE_AMOUNT,INV_TAX_3_NAME,INV_TAX_3_PERCENTAGE,INV_TAX_3_AMOUNT,INV_TAX_3_TAXABLE_AMOUNT,CURRENCY_CODE*,AMAZON_REF_ID*,CARRIER_REF_ID,AMAZON_VAT_ID*,CARRIER_VAT_ID*,SHIPPER_ACCOUNT,BILL_NAME,BILL_COMPANY*,BILL_ADDRESS_LINE_1*,BILL_ADDRESS_LINE_2,BILL_CITY*,BILL_STATE,BILL_COUNTRY_CODE*,BILL_POSTAL_CODE*,FROM_NAME,CARRIER_COMPANY,CARRIER_ADDRESS_LINE_1,FROM_ADDRESS_LINE_2,CARRIER_CITY,FROM_STATE,CARRIER_COUNTRY_CODE,CARRIER_POSTAL_CODE,PICKUP_DATE*,PICKUP_POINT*,DELIVERED_DATE,DELIVERED_POINT*,CONSIGMENT,ITEM_CLASS,VEHICLE_TYPE,DISTANCE,DISTANCE_UNIT,STOP_OVERS,CHARGE_1_CODE*,CHARGE_1_AMOUNT*,CHARGE_1_TAX_1_NAME,CHARGE_1_TAX_1_PERCENTAGE,CHARGE_1_TAX_1_AMOUNT,CHARGE_1_TAX_1_TAXABLE_AMOUNT,CHARGE_1_TAX_2_NAME,CHARGE_1_TAX_2_PERCENTAGE,CHARGE_1_TAX_2_AMOUNT,CHARGE_1_TAX_2_TAXABLE_AMOUNT,CHARGE_2_CODE*,CHARGE_2_AMOUNT*,CHARGE_2_TAX_1_NAME,CHARGE_2_TAX_1_PERCENTAGE,CHARGE_2_TAX_1_AMOUNT,CHARGE_2_TAX_1_TAXABLE_AMOUNT,CHARGE_2_TAX_2_NAME,CHARGE_2_TAX_2_PERCENTAGE,CHARGE_2_TAX_2_AMOUNT,CHARGE_2_TAX_2_TAXABLE_AMOUNT,CHARGE_3_CODE*,CHARGE_3_AMOUNT*,CHARGE_3_TAX_1_NAME,CHARGE_3_TAX_1_PERCENTAGE,CHARGE_3_TAX_1_AMOUNT,CHARGE_3_TAX_1_TAXABLE_AMOUNT,CHARGE_3_TAX_2_NAME,CHARGE_3_TAX_2_PERCENTAGE,CHARGE_3_TAX_2_AMOUNT,CHARGE_3_TAX_2_TAXABLE_AMOUNT\n",
       "0  ASLI,ASLIAIRCARGO,7022002523,20221206,24223.68...                                                                                                                                                                                                                                                                                                                                                                                                                                                                                                                                                                                                                                                                                                                                                                                                                                                                                                                                                                                                                                                                                                                                                                                                                                                                                                                                                                                                                                                                                                 "
      ]
     },
     "execution_count": 15,
     "metadata": {},
     "output_type": "execute_result"
    }
   ],
   "source": [
    "data_txt.head()"
   ]
  },
  {
   "cell_type": "markdown",
   "id": "c5c6b3a4",
   "metadata": {},
   "source": [
    "### All the columns are stored as the name of a single column in a dataframe.\n",
    "### to avoid this we need to provide parameters called \"delimiter\" or \"sep\"\n",
    "\n",
    "## If you open your text file you can see that they are seperated by comma, so the delimiter will be comma"
   ]
  },
  {
   "cell_type": "code",
   "execution_count": 34,
   "id": "21dc62bf",
   "metadata": {},
   "outputs": [
    {
     "data": {
      "text/html": [
       "<div>\n",
       "<style scoped>\n",
       "    .dataframe tbody tr th:only-of-type {\n",
       "        vertical-align: middle;\n",
       "    }\n",
       "\n",
       "    .dataframe tbody tr th {\n",
       "        vertical-align: top;\n",
       "    }\n",
       "\n",
       "    .dataframe thead th {\n",
       "        text-align: right;\n",
       "    }\n",
       "</style>\n",
       "<table border=\"1\" class=\"dataframe\">\n",
       "  <thead>\n",
       "    <tr style=\"text-align: right;\">\n",
       "      <th></th>\n",
       "      <th>BILL_NAME</th>\n",
       "      <th>BILL_COMPANY*</th>\n",
       "      <th>BILL_ADDRESS_LINE_1*</th>\n",
       "      <th>BILL_ADDRESS_LINE_2</th>\n",
       "      <th>BILL_CITY*</th>\n",
       "      <th>BILL_STATE</th>\n",
       "    </tr>\n",
       "  </thead>\n",
       "  <tbody>\n",
       "    <tr>\n",
       "      <th>0</th>\n",
       "      <td>NaN</td>\n",
       "      <td>AMAZON EU SARL NIEDERLASSUNG DEUTSCHLAND</td>\n",
       "      <td>MARCEL-BREUER-STR. 12</td>\n",
       "      <td>NaN</td>\n",
       "      <td>MUNCHEN</td>\n",
       "      <td>NaN</td>\n",
       "    </tr>\n",
       "  </tbody>\n",
       "</table>\n",
       "</div>"
      ],
      "text/plain": [
       "   BILL_NAME                             BILL_COMPANY*   BILL_ADDRESS_LINE_1*  \\\n",
       "0        NaN  AMAZON EU SARL NIEDERLASSUNG DEUTSCHLAND  MARCEL-BREUER-STR. 12   \n",
       "\n",
       "   BILL_ADDRESS_LINE_2 BILL_CITY*  BILL_STATE  \n",
       "0                  NaN    MUNCHEN         NaN  "
      ]
     },
     "execution_count": 34,
     "metadata": {},
     "output_type": "execute_result"
    }
   ],
   "source": [
    "data_txt=pd.read_table('/Users/shreddyr/Downloads/textdataexample.txt', delimiter=\",\")\n",
    "\n",
    "#get the first 5 rows\n",
    "# and columns from 25 to 30\n",
    "\n",
    "data_txt.iloc[:5, 25:31]"
   ]
  },
  {
   "cell_type": "code",
   "execution_count": null,
   "id": "d6020663",
   "metadata": {},
   "outputs": [],
   "source": []
  }
 ],
 "metadata": {
  "kernelspec": {
   "display_name": "Python 3 (ipykernel)",
   "language": "python",
   "name": "python3"
  },
  "language_info": {
   "codemirror_mode": {
    "name": "ipython",
    "version": 3
   },
   "file_extension": ".py",
   "mimetype": "text/x-python",
   "name": "python",
   "nbconvert_exporter": "python",
   "pygments_lexer": "ipython3",
   "version": "3.11.4"
  }
 },
 "nbformat": 4,
 "nbformat_minor": 5
}
