{
 "cells": [
  {
   "cell_type": "markdown",
   "id": "2d5a68d2",
   "metadata": {},
   "source": [
    "# Sequence Object Initialization"
   ]
  },
  {
   "cell_type": "code",
   "execution_count": 1,
   "id": "00b93900",
   "metadata": {},
   "outputs": [
    {
     "name": "stdout",
     "output_type": "stream",
     "text": [
      "Learning\n"
     ]
    }
   ],
   "source": [
    "string_example=\"Learning\"\n",
    "\n",
    "print(string_example)"
   ]
  },
  {
   "cell_type": "code",
   "execution_count": 2,
   "id": "9cb90d00",
   "metadata": {},
   "outputs": [
    {
     "name": "stdout",
     "output_type": "stream",
     "text": [
      "[1, 4, 7, 5, -2]\n"
     ]
    }
   ],
   "source": [
    "List_Numbers = [1, 4, 7, 5, -2]\n",
    "\n",
    "print(List_Numbers)"
   ]
  },
  {
   "cell_type": "code",
   "execution_count": 3,
   "id": "2180c84c",
   "metadata": {},
   "outputs": [
    {
     "name": "stdout",
     "output_type": "stream",
     "text": [
      "[5, 'list', '-2', 0.6]\n"
     ]
    }
   ],
   "source": [
    "#a list can have mixed data types but an array could only have homogenous data types.\n",
    "\n",
    "List_mixed = [5, \"list\", \"-2\", 0.6] #integer, float and strings\n",
    "\n",
    "print(List_mixed)"
   ]
  },
  {
   "cell_type": "code",
   "execution_count": 4,
   "id": "b5b20bde",
   "metadata": {},
   "outputs": [
    {
     "name": "stdout",
     "output_type": "stream",
     "text": [
      "(1, 2, 3, -5, 'python')\n"
     ]
    }
   ],
   "source": [
    "tuple_example = (1,2,3,-5, \"python\") \n",
    "\n",
    "print(tuple_example)\n"
   ]
  },
  {
   "cell_type": "markdown",
   "id": "b61fb18c",
   "metadata": {},
   "source": [
    "### difference between a list and a tuple is that list is mutable while typle is immutable "
   ]
  },
  {
   "cell_type": "code",
   "execution_count": 6,
   "id": "af182fdf",
   "metadata": {},
   "outputs": [
    {
     "name": "stdout",
     "output_type": "stream",
     "text": [
      "[1, 4, 7, 41, -2]\n"
     ]
    },
    {
     "ename": "TypeError",
     "evalue": "'tuple' object does not support item assignment",
     "output_type": "error",
     "traceback": [
      "\u001b[0;31m---------------------------------------------------------------------------\u001b[0m",
      "\u001b[0;31mTypeError\u001b[0m                                 Traceback (most recent call last)",
      "Cell \u001b[0;32mIn[6], line 4\u001b[0m\n\u001b[1;32m      1\u001b[0m List_Numbers[\u001b[38;5;241m3\u001b[39m]\u001b[38;5;241m=\u001b[39m\u001b[38;5;241m41\u001b[39m\n\u001b[1;32m      2\u001b[0m \u001b[38;5;28mprint\u001b[39m(List_Numbers)\n\u001b[0;32m----> 4\u001b[0m \u001b[43mtuple_example\u001b[49m\u001b[43m[\u001b[49m\u001b[38;5;241;43m3\u001b[39;49m\u001b[43m]\u001b[49m\u001b[38;5;241m=\u001b[39m\u001b[38;5;241m5\u001b[39m\n\u001b[1;32m      5\u001b[0m \u001b[38;5;28mprint\u001b[39m(tuple_example)\n",
      "\u001b[0;31mTypeError\u001b[0m: 'tuple' object does not support item assignment"
     ]
    }
   ],
   "source": [
    "List_Numbers[3]=41\n",
    "print(List_Numbers)\n",
    "\n",
    "tuple_example[3]=5\n",
    "print(tuple_example)"
   ]
  },
  {
   "cell_type": "markdown",
   "id": "dcf1e549",
   "metadata": {},
   "source": [
    "### Dictionary : stores data in the form of key-value pairs"
   ]
  },
  {
   "cell_type": "code",
   "execution_count": null,
   "id": "5770d652",
   "metadata": {},
   "outputs": [],
   "source": [
    "Dictionary_example= {1:\"first\", 2: \"second\", 3: \"third\", 4:\"fourth\"}\n"
   ]
  },
  {
   "cell_type": "markdown",
   "id": "a324008d",
   "metadata": {},
   "source": [
    "### dictionary can also be created using dict keyword"
   ]
  },
  {
   "cell_type": "code",
   "execution_count": 5,
   "id": "ebc86bbf",
   "metadata": {},
   "outputs": [
    {
     "name": "stdout",
     "output_type": "stream",
     "text": [
      "{'first': 1, 'second': 2, 'third': 3, 'fourth': 4}\n"
     ]
    }
   ],
   "source": [
    "dict_example = dict( [(\"first\", 1), (\"second\", 2), (\"third\", 3), (\"fourth\", 4)] )\n",
    "\n",
    "print(dict_example)"
   ]
  },
  {
   "cell_type": "markdown",
   "id": "cc4977e8",
   "metadata": {},
   "source": [
    "### sets store unique elements, and only immutable data can be an element of a set"
   ]
  },
  {
   "cell_type": "code",
   "execution_count": 6,
   "id": "0c61a2cd",
   "metadata": {},
   "outputs": [
    {
     "name": "stdout",
     "output_type": "stream",
     "text": [
      "{3}\n"
     ]
    }
   ],
   "source": [
    "set_example = {\"example\", 1, 0.7, \"a\"}\n",
    "\n",
    "# we can initialize a set using set() function and to add elements into it use add() function\n",
    "set2=set()\n",
    "set2.add(3)\n",
    "print(set2)"
   ]
  },
  {
   "cell_type": "markdown",
   "id": "233e4900",
   "metadata": {},
   "source": [
    "## Indexing "
   ]
  },
  {
   "cell_type": "markdown",
   "id": "50aaaf15",
   "metadata": {},
   "source": [
    "### how to get the index of the substring \"ing\" from \"string\" ? "
   ]
  },
  {
   "cell_type": "code",
   "execution_count": 7,
   "id": "60078411",
   "metadata": {},
   "outputs": [
    {
     "data": {
      "text/plain": [
       "3"
      ]
     },
     "execution_count": 7,
     "metadata": {},
     "output_type": "execute_result"
    }
   ],
   "source": [
    "string_example=\"learning\"\n",
    "string_example.index(\"rni\") # the index of first letter of the substring will be returned"
   ]
  },
  {
   "cell_type": "code",
   "execution_count": 8,
   "id": "9d8f177e",
   "metadata": {},
   "outputs": [
    {
     "data": {
      "text/plain": [
       "3"
      ]
     },
     "execution_count": 8,
     "metadata": {},
     "output_type": "execute_result"
    }
   ],
   "source": [
    "string_example.index(\"r\")"
   ]
  },
  {
   "cell_type": "markdown",
   "id": "48c3c01b",
   "metadata": {},
   "source": [
    "### what is Negative indexing in python? "
   ]
  },
  {
   "cell_type": "code",
   "execution_count": 9,
   "id": "89a7e3ad",
   "metadata": {},
   "outputs": [
    {
     "data": {
      "text/plain": [
       "'g'"
      ]
     },
     "execution_count": 9,
     "metadata": {},
     "output_type": "execute_result"
    }
   ],
   "source": [
    "# Negative indexing is used to access the elements from end of the list\n",
    "#In negative indexing, the last element of the list has a index -1\n",
    "\n",
    "string_example[-1]"
   ]
  },
  {
   "cell_type": "code",
   "execution_count": 10,
   "id": "bfe3b26c",
   "metadata": {},
   "outputs": [
    {
     "data": {
      "text/plain": [
       "'a'"
      ]
     },
     "execution_count": 10,
     "metadata": {},
     "output_type": "execute_result"
    }
   ],
   "source": [
    "list_example = [1, 21, \"a\", \"sum\"]\n",
    "\n",
    "list_example[-2]"
   ]
  },
  {
   "cell_type": "code",
   "execution_count": 10,
   "id": "b63faf1b",
   "metadata": {},
   "outputs": [
    {
     "name": "stdout",
     "output_type": "stream",
     "text": [
      "21\n",
      "48\n",
      "5\n",
      "-100\n",
      "-17\n"
     ]
    }
   ],
   "source": [
    "from array import *\n",
    "\n",
    "array_example = array(\"i\", [21, 48, 5, -100, -17])\n",
    "\n",
    "for i in array_example:\n",
    "    print(i)\n"
   ]
  },
  {
   "cell_type": "markdown",
   "id": "e8ee92c8",
   "metadata": {},
   "source": [
    "### we can get the elements of array, tuple, list and string using indexing\n",
    "### elements in a set are not in particular order, so indexing is not possible on sets\n",
    "### while on dictionaries, we can access a value using a key"
   ]
  },
  {
   "cell_type": "code",
   "execution_count": 11,
   "id": "b6567829",
   "metadata": {},
   "outputs": [
    {
     "data": {
      "text/plain": [
       "48"
      ]
     },
     "execution_count": 11,
     "metadata": {},
     "output_type": "execute_result"
    }
   ],
   "source": [
    "array_example[-4]"
   ]
  },
  {
   "cell_type": "code",
   "execution_count": 12,
   "id": "a62d0a06",
   "metadata": {},
   "outputs": [
    {
     "name": "stdout",
     "output_type": "stream",
     "text": [
      "(1, 2, 3, -5, 'python')\n"
     ]
    },
    {
     "data": {
      "text/plain": [
       "2"
      ]
     },
     "execution_count": 12,
     "metadata": {},
     "output_type": "execute_result"
    }
   ],
   "source": [
    "print(tuple_example)\n",
    "tuple_example[-4]"
   ]
  },
  {
   "cell_type": "markdown",
   "id": "7a2c2189",
   "metadata": {},
   "source": [
    "### Can we have indexing in sets? "
   ]
  },
  {
   "cell_type": "code",
   "execution_count": 13,
   "id": "1bb44d35",
   "metadata": {},
   "outputs": [
    {
     "ename": "TypeError",
     "evalue": "'set' object is not subscriptable",
     "output_type": "error",
     "traceback": [
      "\u001b[0;31m---------------------------------------------------------------------------\u001b[0m",
      "\u001b[0;31mTypeError\u001b[0m                                 Traceback (most recent call last)",
      "Cell \u001b[0;32mIn[13], line 3\u001b[0m\n\u001b[1;32m      1\u001b[0m set_example \u001b[38;5;241m=\u001b[39m {\u001b[38;5;124m\"\u001b[39m\u001b[38;5;124mexample\u001b[39m\u001b[38;5;124m\"\u001b[39m, \u001b[38;5;124m\"\u001b[39m\u001b[38;5;124ma\u001b[39m\u001b[38;5;124m\"\u001b[39m, \u001b[38;5;241m2\u001b[39m, \u001b[38;5;241m0.5\u001b[39m, \u001b[38;5;241m-\u001b[39m\u001b[38;5;241m75\u001b[39m}\n\u001b[0;32m----> 3\u001b[0m \u001b[43mset_example\u001b[49m\u001b[43m[\u001b[49m\u001b[38;5;241;43m-\u001b[39;49m\u001b[38;5;241;43m2\u001b[39;49m\u001b[43m]\u001b[49m\n",
      "\u001b[0;31mTypeError\u001b[0m: 'set' object is not subscriptable"
     ]
    }
   ],
   "source": [
    "set_example = {\"example\", \"a\", 2, 0.5, -75}\n",
    "\n",
    "set_example[-2]"
   ]
  },
  {
   "cell_type": "markdown",
   "id": "15e6c345",
   "metadata": {},
   "source": [
    "### In dictionary the values are indexed with keys, they are non held in any order "
   ]
  },
  {
   "cell_type": "code",
   "execution_count": 15,
   "id": "fc22dc93",
   "metadata": {},
   "outputs": [
    {
     "name": "stdout",
     "output_type": "stream",
     "text": [
      "{'first': 1, 'second': 2, 'third': 3, 'fourth': 4}\n"
     ]
    },
    {
     "ename": "KeyError",
     "evalue": "4",
     "output_type": "error",
     "traceback": [
      "\u001b[0;31m---------------------------------------------------------------------------\u001b[0m",
      "\u001b[0;31mKeyError\u001b[0m                                  Traceback (most recent call last)",
      "Cell \u001b[0;32mIn[15], line 3\u001b[0m\n\u001b[1;32m      1\u001b[0m \u001b[38;5;28mprint\u001b[39m(dict_example)\n\u001b[0;32m----> 3\u001b[0m \u001b[43mdict_example\u001b[49m\u001b[43m[\u001b[49m\u001b[38;5;241;43m4\u001b[39;49m\u001b[43m]\u001b[49m\n",
      "\u001b[0;31mKeyError\u001b[0m: 4"
     ]
    }
   ],
   "source": [
    "print(dict_example)\n",
    "\n",
    "dict_example[4]"
   ]
  },
  {
   "cell_type": "code",
   "execution_count": 16,
   "id": "800be2fc",
   "metadata": {},
   "outputs": [
    {
     "data": {
      "text/plain": [
       "2"
      ]
     },
     "execution_count": 16,
     "metadata": {},
     "output_type": "execute_result"
    }
   ],
   "source": [
    "dict_example[\"second\"]"
   ]
  },
  {
   "cell_type": "markdown",
   "id": "04eb874d",
   "metadata": {},
   "source": [
    "## Slicing "
   ]
  },
  {
   "cell_type": "markdown",
   "id": "b76c1925",
   "metadata": {},
   "source": [
    "### [ first : last : step ] "
   ]
  },
  {
   "cell_type": "code",
   "execution_count": 24,
   "id": "43d3d254",
   "metadata": {},
   "outputs": [
    {
     "name": "stdout",
     "output_type": "stream",
     "text": [
      "learning\n",
      "rning"
     ]
    },
    {
     "data": {
      "text/plain": [
       "'nin'"
      ]
     },
     "execution_count": 24,
     "metadata": {},
     "output_type": "execute_result"
    }
   ],
   "source": [
    "print(string_example)\n",
    "\n",
    "\n",
    "for string_index in range(3,len(string_example)):\n",
    "    print(string_example[string_index],end=\"\")\n",
    "\n",
    "string_example[3:]\n",
    "string_example[4:9]"
   ]
  },
  {
   "cell_type": "code",
   "execution_count": 8,
   "id": "9fc32de9",
   "metadata": {},
   "outputs": [
    {
     "data": {
      "text/plain": [
       "'Learning'"
      ]
     },
     "execution_count": 8,
     "metadata": {},
     "output_type": "execute_result"
    }
   ],
   "source": [
    "string_example[:] ## not giving any first and last elements results in printing whole string"
   ]
  },
  {
   "cell_type": "code",
   "execution_count": 11,
   "id": "a018ab7f",
   "metadata": {},
   "outputs": [
    {
     "name": "stdout",
     "output_type": "stream",
     "text": [
      "[1, 21, 'a', 'sum']\n"
     ]
    },
    {
     "data": {
      "text/plain": [
       "[1, 21, 'a']"
      ]
     },
     "execution_count": 11,
     "metadata": {},
     "output_type": "execute_result"
    }
   ],
   "source": [
    "print(list_example)\n",
    "list_example[:3] ## the last is given as 3, which means that we should consider the part before index 3, but not >=3"
   ]
  },
  {
   "cell_type": "code",
   "execution_count": 12,
   "id": "ebb5bd26",
   "metadata": {},
   "outputs": [
    {
     "data": {
      "text/plain": [
       "['a', 'sum']"
      ]
     },
     "execution_count": 12,
     "metadata": {},
     "output_type": "execute_result"
    }
   ],
   "source": [
    "list_example[2:] ## fist is given as 2, which means that we should consider the part which is >=2"
   ]
  },
  {
   "cell_type": "code",
   "execution_count": 25,
   "id": "f18e0330",
   "metadata": {},
   "outputs": [
    {
     "data": {
      "text/plain": [
       "'ai'"
      ]
     },
     "execution_count": 25,
     "metadata": {},
     "output_type": "execute_result"
    }
   ],
   "source": [
    "string_example[1::2] ## step is 2, that means you jump one element in between\n",
    "\n",
    "string_example[2:6:3]"
   ]
  },
  {
   "cell_type": "code",
   "execution_count": null,
   "id": "6caf7784",
   "metadata": {},
   "outputs": [],
   "source": []
  }
 ],
 "metadata": {
  "kernelspec": {
   "display_name": "Python 3 (ipykernel)",
   "language": "python",
   "name": "python3"
  },
  "language_info": {
   "codemirror_mode": {
    "name": "ipython",
    "version": 3
   },
   "file_extension": ".py",
   "mimetype": "text/x-python",
   "name": "python",
   "nbconvert_exporter": "python",
   "pygments_lexer": "ipython3",
   "version": "3.11.4"
  }
 },
 "nbformat": 4,
 "nbformat_minor": 5
}
